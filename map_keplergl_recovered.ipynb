{
 "cells": [
  {
   "cell_type": "code",
   "execution_count": 1,
   "metadata": {},
   "outputs": [],
   "source": [
    "import os\n",
    "import pandas as pd\n",
    "from datetime import datetime, timedelta\n",
    "import geopandas as gpd\n",
    "from keplergl import KeplerGl\n",
    "#import pprint"
   ]
  },
  {
   "cell_type": "code",
   "execution_count": 2,
   "metadata": {},
   "outputs": [],
   "source": [
    "\n",
    "case_type = \"Recovered\"\n",
    "data_dir = os.path.join(\"..\", \"COVID-19\", \"csse_covid_19_data\", \"csse_covid_19_time_series\")\n",
    "df = pd.read_csv(os.path.join(data_dir, \"time_series_covid19_{}_global.csv\".format(case_type.lower())))"
   ]
  },
  {
   "cell_type": "code",
   "execution_count": 3,
   "metadata": {},
   "outputs": [],
   "source": [
    "info_col = [\"Province/State\", \"Country/Region\", \"Lat\", \"Long\"]\n",
    "\n",
    "col_dayend = []\n",
    "col_dayend_str = []\n",
    "for col_str in df.columns:\n",
    "    if not(col_str in info_col):\n",
    "        col_obj = datetime.strptime(col_str, \"%m/%d/%y\") # parse 1/21/2020 10:00 PM to the format\n",
    "        #print(col_obj.date())\n",
    "        #print(col_obj)\n",
    "        if col_obj.date() in col_dayend:\n",
    "            col_dayend = col_dayend[:-1]\n",
    "            col_dayend_str = col_dayend_str[:-1]\n",
    "        col_dayend.append(col_obj.date())\n",
    "        col_dayend_str.append(col_str)\n",
    "        #print(col)\n",
    "        #print(type(col))\n",
    "#len(col_dayend)\n",
    "#print(col_dayend_str)"
   ]
  },
  {
   "cell_type": "code",
   "execution_count": 4,
   "metadata": {},
   "outputs": [],
   "source": [
    "info_col2 = [ c for c in info_col if not c==\"First confirmed date in country (Est.)\" ]\n",
    "df2 = df[info_col2+col_dayend_str]\n",
    "df3 = pd.melt(df2, id_vars=info_col2, value_vars=col_dayend_str, var_name='datetime', value_name='confirmed_case')\n",
    "df3 = df3.dropna(subset=[\"confirmed_case\"])\n",
    "# this is to show the data using the time slider\n",
    "dates = []\n",
    "for d in df3.datetime.tolist():\n",
    "    dt_obj = datetime.strptime(d, \"%m/%d/%y\") # parse 1/21/2020 10:00 PM to the format\n",
    "    dates.append(dt_obj.strftime(\"%Y-%m-%d\")+\" 00:00\")\n",
    "df3['datetime'] = dates"
   ]
  },
  {
   "cell_type": "code",
   "execution_count": 5,
   "metadata": {},
   "outputs": [],
   "source": [
    "point_gdf = gpd.GeoDataFrame(df3, geometry=gpd.points_from_xy(df3[\"Long\"], df3[\"Lat\"]))"
   ]
  },
  {
   "cell_type": "code",
   "execution_count": 6,
   "metadata": {},
   "outputs": [],
   "source": [
    "%run map_time_series-recovered.conf.py\n",
    "# use the previous config as base\n",
    "#config"
   ]
  },
  {
   "cell_type": "code",
   "execution_count": 7,
   "metadata": {},
   "outputs": [
    {
     "name": "stdout",
     "output_type": "stream",
     "text": [
      "User Guide: https://github.com/keplergl/kepler.gl/blob/master/docs/keplergl-jupyter/user-guide.md\n"
     ]
    },
    {
     "data": {
      "application/vnd.jupyter.widget-view+json": {
       "model_id": "e340e7bd6a04492f8bb359b4bc38dea1",
       "version_major": 2,
       "version_minor": 0
      },
      "text/plain": [
       "KeplerGl(config={'version': 'v1', 'config': {'visState': {'filters': [{'dataId': 'confirmed_case', 'name': 'da…"
      ]
     },
     "metadata": {},
     "output_type": "display_data"
    }
   ],
   "source": [
    "map_1 = KeplerGl(height=900, config=config)\n",
    "map_1.add_data(data=point_gdf, name=\"confirmed_case\")\n",
    "\n",
    "map_1"
   ]
  },
  {
   "cell_type": "code",
   "execution_count": 8,
   "metadata": {},
   "outputs": [],
   "source": [
    "# add the time slider to map, need to manually add this to the config, because the save_to_html won't recognize the filter part\n",
    "\n",
    "map_1.config[\"config\"]['visState'][\"filters\"] = [{\"dataId\": 'confirmed_case', \"name\": \"datetime\", \n",
    "                                                      'type': 'timeRange',\n",
    "                                                      'value': [1579651200000, 1579737600000], ## a day\n",
    "                                                      'name': 'datetime'}]\n"
   ]
  },
  {
   "cell_type": "code",
   "execution_count": 9,
   "metadata": {},
   "outputs": [
    {
     "name": "stdout",
     "output_type": "stream",
     "text": [
      "Map saved to map_covid19_Recovered.html!\n"
     ]
    }
   ],
   "source": [
    "map_1.save_to_html(file_name=\"map_covid19_{}.html\".format(case_type), config=map_1.config, read_only=True)"
   ]
  },
  {
   "cell_type": "code",
   "execution_count": null,
   "metadata": {},
   "outputs": [],
   "source": []
  }
 ],
 "metadata": {
  "kernelspec": {
   "display_name": "Python 3",
   "language": "python",
   "name": "python3"
  },
  "language_info": {
   "codemirror_mode": {
    "name": "ipython",
    "version": 3
   },
   "file_extension": ".py",
   "mimetype": "text/x-python",
   "name": "python",
   "nbconvert_exporter": "python",
   "pygments_lexer": "ipython3",
   "version": "3.7.5"
  }
 },
 "nbformat": 4,
 "nbformat_minor": 4
}
